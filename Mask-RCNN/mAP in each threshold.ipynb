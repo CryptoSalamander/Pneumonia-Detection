{
 "cells": [
  {
   "cell_type": "markdown",
   "metadata": {
    "_uuid": "8466faddaa492e417e80cea07989dceb72017246"
   },
   "source": [
    "# Objective: Obtain out of fold predictions on the entire training set using cross validation and then using a mean average precision IoU metric, that closely resembles the competition metric, to improve validation"
   ]
  },
  {
   "cell_type": "code",
   "execution_count": 1,
   "metadata": {
    "_uuid": "eec3fbc59b4528da7fa867dd148c52d6391edb5b"
   },
   "outputs": [],
   "source": [
    "import numpy as np\n",
    "import pandas as pd"
   ]
  },
  {
   "cell_type": "markdown",
   "metadata": {
    "_uuid": "97a0f040fd76bb2970fb721615570defb6efb949"
   },
   "source": [
    "# Prepare out of fold training predictions for implementation of MAP IoU matching competition evaluation description"
   ]
  },
  {
   "cell_type": "markdown",
   "metadata": {
    "_uuid": "351227cc50e0711d25350d1f1bdc1b54bbf3d505"
   },
   "source": [
    "Load oof predictions from CNN segmentation CV kernel https://www.kaggle.com/cchadha/cnn-segmentation-cv-with-oof-preds-on-train-set/notebook"
   ]
  },
  {
   "cell_type": "code",
   "execution_count": 2,
   "metadata": {
    "_uuid": "b141987cdeb3559470e514de28492ae28a770733"
   },
   "outputs": [],
   "source": [
    "oof_preds0 = pd.read_csv('submission5.csv')"
   ]
  },
  {
   "cell_type": "code",
   "execution_count": 3,
   "metadata": {
    "_uuid": "e0ef41d62accd5165bf381de599419c83cab1a42"
   },
   "outputs": [
    {
     "data": {
      "text/html": [
       "<div>\n",
       "<style scoped>\n",
       "    .dataframe tbody tr th:only-of-type {\n",
       "        vertical-align: middle;\n",
       "    }\n",
       "\n",
       "    .dataframe tbody tr th {\n",
       "        vertical-align: top;\n",
       "    }\n",
       "\n",
       "    .dataframe thead th {\n",
       "        text-align: right;\n",
       "    }\n",
       "</style>\n",
       "<table border=\"1\" class=\"dataframe\">\n",
       "  <thead>\n",
       "    <tr style=\"text-align: right;\">\n",
       "      <th></th>\n",
       "      <th>patientId</th>\n",
       "      <th>PredictionString</th>\n",
       "    </tr>\n",
       "  </thead>\n",
       "  <tbody>\n",
       "    <tr>\n",
       "      <th>0</th>\n",
       "      <td>c1a1144a-91c5-466b-b707-6303b2dc5500</td>\n",
       "      <td>0.98 614.0 432.0 260.0 282.0</td>\n",
       "    </tr>\n",
       "    <tr>\n",
       "      <th>1</th>\n",
       "      <td>0f165be0-0173-4a7c-8411-9b9b29e4f021</td>\n",
       "      <td>NaN</td>\n",
       "    </tr>\n",
       "    <tr>\n",
       "      <th>2</th>\n",
       "      <td>c1d15ac6-9205-4063-9916-3856fb9ebff7</td>\n",
       "      <td>0.96 192.0 504.0 190.0 168.0</td>\n",
       "    </tr>\n",
       "    <tr>\n",
       "      <th>3</th>\n",
       "      <td>305693d4-6acb-4bf0-90be-4ff2a218689f</td>\n",
       "      <td>NaN</td>\n",
       "    </tr>\n",
       "    <tr>\n",
       "      <th>4</th>\n",
       "      <td>11d66121-49b9-4365-8c43-f9d3474e7c52</td>\n",
       "      <td>NaN</td>\n",
       "    </tr>\n",
       "  </tbody>\n",
       "</table>\n",
       "</div>"
      ],
      "text/plain": [
       "                              patientId               PredictionString\n",
       "0  c1a1144a-91c5-466b-b707-6303b2dc5500   0.98 614.0 432.0 260.0 282.0\n",
       "1  0f165be0-0173-4a7c-8411-9b9b29e4f021                            NaN\n",
       "2  c1d15ac6-9205-4063-9916-3856fb9ebff7   0.96 192.0 504.0 190.0 168.0\n",
       "3  305693d4-6acb-4bf0-90be-4ff2a218689f                            NaN\n",
       "4  11d66121-49b9-4365-8c43-f9d3474e7c52                            NaN"
      ]
     },
     "execution_count": 3,
     "metadata": {},
     "output_type": "execute_result"
    }
   ],
   "source": [
    "oof_preds0.head()"
   ]
  },
  {
   "cell_type": "markdown",
   "metadata": {
    "_uuid": "debe3e4e95b80f6db124c7e731b4cf529073bc78"
   },
   "source": [
    "Read in training labels"
   ]
  },
  {
   "cell_type": "markdown",
   "metadata": {
    "_uuid": "b92a23ed6f5e57c1bacc1df9cc5ed011d35658d5"
   },
   "source": [
    "Parse bounding box labels into correct format for Mean Average Precision IoU metric"
   ]
  },
  {
   "cell_type": "code",
   "execution_count": 4,
   "metadata": {
    "_uuid": "1e4af8e36bb8b661b536772673e7adae4ae0e2c6"
   },
   "outputs": [
    {
     "name": "stdout",
     "output_type": "stream",
     "text": [
      "<class 'pandas.core.frame.DataFrame'>\n",
      "RangeIndex: 30227 entries, 0 to 30226\n",
      "Data columns (total 7 columns):\n",
      " #   Column     Non-Null Count  Dtype  \n",
      "---  ------     --------------  -----  \n",
      " 0   patientId  30227 non-null  object \n",
      " 1   x          9555 non-null   float64\n",
      " 2   y          9555 non-null   float64\n",
      " 3   width      9555 non-null   float64\n",
      " 4   height     9555 non-null   float64\n",
      " 5   Target     30227 non-null  int64  \n",
      " 6   bbox       30227 non-null  object \n",
      "dtypes: float64(4), int64(1), object(2)\n",
      "memory usage: 1.6+ MB\n"
     ]
    }
   ],
   "source": [
    "df = pd.read_csv('input/stage_2_train_labels.csv')\n",
    "# make a bbox_target column using x, y, width and height.\n",
    "df['bbox'] = (df['x'].astype(str) +\n",
    "                    ' ' + \n",
    "                    df['y'].astype(str) +\n",
    "                    ' ' +\n",
    "                    df['width'].astype(str) +\n",
    "                    ' ' +\n",
    "                    df['height'].astype(str))\n",
    "# 공백을 기준으로 나눔, ','는 기본으로 찍힘\n",
    "df.loc[:, 'bbox'] = df.loc[:, 'bbox'].map(lambda x: x.split(' '))\n",
    "df.head()\n",
    "df.info()"
   ]
  },
  {
   "cell_type": "code",
   "execution_count": 5,
   "metadata": {
    "_uuid": "e55119e423db8ea20c29f61d740b23591a094a59"
   },
   "outputs": [
    {
     "ename": "AttributeError",
     "evalue": "'Series' object has no attribute 'columns'",
     "output_type": "error",
     "traceback": [
      "\u001b[0;31m---------------------------------------------------------------------------\u001b[0m",
      "\u001b[0;31mAttributeError\u001b[0m                            Traceback (most recent call last)",
      "\u001b[0;32m<ipython-input-5-408b29d8c766>\u001b[0m in \u001b[0;36m<module>\u001b[0;34m\u001b[0m\n\u001b[1;32m      4\u001b[0m \u001b[0;31m#df = df.groupby(['patientId'],as_index = False)['bbox'].agg('sum') #왜 이건 안되곰?\u001b[0m\u001b[0;34m\u001b[0m\u001b[0;34m\u001b[0m\u001b[0;34m\u001b[0m\u001b[0m\n\u001b[1;32m      5\u001b[0m \u001b[0;31m#df = df.groupby(['patientId'],as_index = False)['width'].agg('sum') # 왜 이건 되곰?\u001b[0m\u001b[0;34m\u001b[0m\u001b[0;34m\u001b[0m\u001b[0;34m\u001b[0m\u001b[0m\n\u001b[0;32m----> 6\u001b[0;31m \u001b[0mdf\u001b[0m \u001b[0;34m=\u001b[0m \u001b[0mdf\u001b[0m\u001b[0;34m.\u001b[0m\u001b[0mgroupby\u001b[0m\u001b[0;34m(\u001b[0m\u001b[0;34m[\u001b[0m\u001b[0;34m'patientId'\u001b[0m\u001b[0;34m]\u001b[0m\u001b[0;34m,\u001b[0m\u001b[0mas_index\u001b[0m \u001b[0;34m=\u001b[0m \u001b[0;32mFalse\u001b[0m\u001b[0;34m)\u001b[0m\u001b[0;34m[\u001b[0m\u001b[0;34m'bbox'\u001b[0m\u001b[0;34m]\u001b[0m\u001b[0;34m.\u001b[0m\u001b[0magg\u001b[0m\u001b[0;34m(\u001b[0m\u001b[0;34m'sum'\u001b[0m\u001b[0;34m)\u001b[0m\u001b[0;34m\u001b[0m\u001b[0;34m\u001b[0m\u001b[0m\n\u001b[0m\u001b[1;32m      7\u001b[0m \u001b[0mdf\u001b[0m\u001b[0;34m.\u001b[0m\u001b[0mhead\u001b[0m\u001b[0;34m(\u001b[0m\u001b[0;34m)\u001b[0m\u001b[0;34m\u001b[0m\u001b[0;34m\u001b[0m\u001b[0m\n\u001b[1;32m      8\u001b[0m \u001b[0;31m#df = df.agg('sum')\u001b[0m\u001b[0;34m\u001b[0m\u001b[0;34m\u001b[0m\u001b[0;34m\u001b[0m\u001b[0m\n",
      "\u001b[0;32m~/anaconda3/envs/hyunsoo/lib/python3.6/site-packages/pandas/core/groupby/generic.py\u001b[0m in \u001b[0;36maggregate\u001b[0;34m(self, func, *args, **kwargs)\u001b[0m\n\u001b[1;32m    926\u001b[0m         \u001b[0mfunc\u001b[0m \u001b[0;34m=\u001b[0m \u001b[0m_maybe_mangle_lambdas\u001b[0m\u001b[0;34m(\u001b[0m\u001b[0mfunc\u001b[0m\u001b[0;34m)\u001b[0m\u001b[0;34m\u001b[0m\u001b[0;34m\u001b[0m\u001b[0m\n\u001b[1;32m    927\u001b[0m \u001b[0;34m\u001b[0m\u001b[0m\n\u001b[0;32m--> 928\u001b[0;31m         \u001b[0mresult\u001b[0m\u001b[0;34m,\u001b[0m \u001b[0mhow\u001b[0m \u001b[0;34m=\u001b[0m \u001b[0mself\u001b[0m\u001b[0;34m.\u001b[0m\u001b[0m_aggregate\u001b[0m\u001b[0;34m(\u001b[0m\u001b[0mfunc\u001b[0m\u001b[0;34m,\u001b[0m \u001b[0;34m*\u001b[0m\u001b[0margs\u001b[0m\u001b[0;34m,\u001b[0m \u001b[0;34m**\u001b[0m\u001b[0mkwargs\u001b[0m\u001b[0;34m)\u001b[0m\u001b[0;34m\u001b[0m\u001b[0;34m\u001b[0m\u001b[0m\n\u001b[0m\u001b[1;32m    929\u001b[0m         \u001b[0;32mif\u001b[0m \u001b[0mhow\u001b[0m \u001b[0;32mis\u001b[0m \u001b[0;32mNone\u001b[0m\u001b[0;34m:\u001b[0m\u001b[0;34m\u001b[0m\u001b[0;34m\u001b[0m\u001b[0m\n\u001b[1;32m    930\u001b[0m             \u001b[0;32mreturn\u001b[0m \u001b[0mresult\u001b[0m\u001b[0;34m\u001b[0m\u001b[0;34m\u001b[0m\u001b[0m\n",
      "\u001b[0;32m~/anaconda3/envs/hyunsoo/lib/python3.6/site-packages/pandas/core/base.py\u001b[0m in \u001b[0;36m_aggregate\u001b[0;34m(self, arg, *args, **kwargs)\u001b[0m\n\u001b[1;32m    309\u001b[0m \u001b[0;34m\u001b[0m\u001b[0m\n\u001b[1;32m    310\u001b[0m         \u001b[0;32mif\u001b[0m \u001b[0misinstance\u001b[0m\u001b[0;34m(\u001b[0m\u001b[0marg\u001b[0m\u001b[0;34m,\u001b[0m \u001b[0mstr\u001b[0m\u001b[0;34m)\u001b[0m\u001b[0;34m:\u001b[0m\u001b[0;34m\u001b[0m\u001b[0;34m\u001b[0m\u001b[0m\n\u001b[0;32m--> 311\u001b[0;31m             \u001b[0;32mreturn\u001b[0m \u001b[0mself\u001b[0m\u001b[0;34m.\u001b[0m\u001b[0m_try_aggregate_string_function\u001b[0m\u001b[0;34m(\u001b[0m\u001b[0marg\u001b[0m\u001b[0;34m,\u001b[0m \u001b[0;34m*\u001b[0m\u001b[0margs\u001b[0m\u001b[0;34m,\u001b[0m \u001b[0;34m**\u001b[0m\u001b[0mkwargs\u001b[0m\u001b[0;34m)\u001b[0m\u001b[0;34m,\u001b[0m \u001b[0;32mNone\u001b[0m\u001b[0;34m\u001b[0m\u001b[0;34m\u001b[0m\u001b[0m\n\u001b[0m\u001b[1;32m    312\u001b[0m \u001b[0;34m\u001b[0m\u001b[0m\n\u001b[1;32m    313\u001b[0m         \u001b[0;32mif\u001b[0m \u001b[0misinstance\u001b[0m\u001b[0;34m(\u001b[0m\u001b[0marg\u001b[0m\u001b[0;34m,\u001b[0m \u001b[0mdict\u001b[0m\u001b[0;34m)\u001b[0m\u001b[0;34m:\u001b[0m\u001b[0;34m\u001b[0m\u001b[0;34m\u001b[0m\u001b[0m\n",
      "\u001b[0;32m~/anaconda3/envs/hyunsoo/lib/python3.6/site-packages/pandas/core/base.py\u001b[0m in \u001b[0;36m_try_aggregate_string_function\u001b[0;34m(self, arg, *args, **kwargs)\u001b[0m\n\u001b[1;32m    265\u001b[0m         \u001b[0;32mif\u001b[0m \u001b[0mf\u001b[0m \u001b[0;32mis\u001b[0m \u001b[0;32mnot\u001b[0m \u001b[0;32mNone\u001b[0m\u001b[0;34m:\u001b[0m\u001b[0;34m\u001b[0m\u001b[0;34m\u001b[0m\u001b[0m\n\u001b[1;32m    266\u001b[0m             \u001b[0;32mif\u001b[0m \u001b[0mcallable\u001b[0m\u001b[0;34m(\u001b[0m\u001b[0mf\u001b[0m\u001b[0;34m)\u001b[0m\u001b[0;34m:\u001b[0m\u001b[0;34m\u001b[0m\u001b[0;34m\u001b[0m\u001b[0m\n\u001b[0;32m--> 267\u001b[0;31m                 \u001b[0;32mreturn\u001b[0m \u001b[0mf\u001b[0m\u001b[0;34m(\u001b[0m\u001b[0;34m*\u001b[0m\u001b[0margs\u001b[0m\u001b[0;34m,\u001b[0m \u001b[0;34m**\u001b[0m\u001b[0mkwargs\u001b[0m\u001b[0;34m)\u001b[0m\u001b[0;34m\u001b[0m\u001b[0;34m\u001b[0m\u001b[0m\n\u001b[0m\u001b[1;32m    268\u001b[0m \u001b[0;34m\u001b[0m\u001b[0m\n\u001b[1;32m    269\u001b[0m             \u001b[0;31m# people may try to aggregate on a non-callable attribute\u001b[0m\u001b[0;34m\u001b[0m\u001b[0;34m\u001b[0m\u001b[0;34m\u001b[0m\u001b[0m\n",
      "\u001b[0;32m~/anaconda3/envs/hyunsoo/lib/python3.6/site-packages/pandas/core/groupby/groupby.py\u001b[0m in \u001b[0;36mf\u001b[0;34m(self, **kwargs)\u001b[0m\n\u001b[1;32m   1383\u001b[0m \u001b[0;34m\u001b[0m\u001b[0m\n\u001b[1;32m   1384\u001b[0m                 \u001b[0;31m# apply a non-cython aggregation\u001b[0m\u001b[0;34m\u001b[0m\u001b[0;34m\u001b[0m\u001b[0;34m\u001b[0m\u001b[0m\n\u001b[0;32m-> 1385\u001b[0;31m                 \u001b[0mresult\u001b[0m \u001b[0;34m=\u001b[0m \u001b[0mself\u001b[0m\u001b[0;34m.\u001b[0m\u001b[0maggregate\u001b[0m\u001b[0;34m(\u001b[0m\u001b[0;32mlambda\u001b[0m \u001b[0mx\u001b[0m\u001b[0;34m:\u001b[0m \u001b[0mnpfunc\u001b[0m\u001b[0;34m(\u001b[0m\u001b[0mx\u001b[0m\u001b[0;34m,\u001b[0m \u001b[0maxis\u001b[0m\u001b[0;34m=\u001b[0m\u001b[0mself\u001b[0m\u001b[0;34m.\u001b[0m\u001b[0maxis\u001b[0m\u001b[0;34m)\u001b[0m\u001b[0;34m)\u001b[0m\u001b[0;34m\u001b[0m\u001b[0;34m\u001b[0m\u001b[0m\n\u001b[0m\u001b[1;32m   1386\u001b[0m                 \u001b[0;32mreturn\u001b[0m \u001b[0mresult\u001b[0m\u001b[0;34m\u001b[0m\u001b[0;34m\u001b[0m\u001b[0m\n\u001b[1;32m   1387\u001b[0m \u001b[0;34m\u001b[0m\u001b[0m\n",
      "\u001b[0;32m~/anaconda3/envs/hyunsoo/lib/python3.6/site-packages/pandas/core/groupby/generic.py\u001b[0m in \u001b[0;36maggregate\u001b[0;34m(self, func, *args, **kwargs)\u001b[0m\n\u001b[1;32m    956\u001b[0m                     \u001b[0;31m# containing the name of the function(s), see GH 32040\u001b[0m\u001b[0;34m\u001b[0m\u001b[0;34m\u001b[0m\u001b[0;34m\u001b[0m\u001b[0m\n\u001b[1;32m    957\u001b[0m                     result.columns = result.columns.rename(\n\u001b[0;32m--> 958\u001b[0;31m                         \u001b[0;34m[\u001b[0m\u001b[0mself\u001b[0m\u001b[0;34m.\u001b[0m\u001b[0m_selected_obj\u001b[0m\u001b[0;34m.\u001b[0m\u001b[0mcolumns\u001b[0m\u001b[0;34m.\u001b[0m\u001b[0mname\u001b[0m\u001b[0;34m]\u001b[0m \u001b[0;34m*\u001b[0m \u001b[0mresult\u001b[0m\u001b[0;34m.\u001b[0m\u001b[0mcolumns\u001b[0m\u001b[0;34m.\u001b[0m\u001b[0mnlevels\u001b[0m\u001b[0;34m\u001b[0m\u001b[0;34m\u001b[0m\u001b[0m\n\u001b[0m\u001b[1;32m    959\u001b[0m                     ).droplevel(-1)\n\u001b[1;32m    960\u001b[0m \u001b[0;34m\u001b[0m\u001b[0m\n",
      "\u001b[0;32m~/anaconda3/envs/hyunsoo/lib/python3.6/site-packages/pandas/core/generic.py\u001b[0m in \u001b[0;36m__getattr__\u001b[0;34m(self, name)\u001b[0m\n\u001b[1;32m   5268\u001b[0m             \u001b[0;32mor\u001b[0m \u001b[0mname\u001b[0m \u001b[0;32min\u001b[0m \u001b[0mself\u001b[0m\u001b[0;34m.\u001b[0m\u001b[0m_accessors\u001b[0m\u001b[0;34m\u001b[0m\u001b[0;34m\u001b[0m\u001b[0m\n\u001b[1;32m   5269\u001b[0m         ):\n\u001b[0;32m-> 5270\u001b[0;31m             \u001b[0;32mreturn\u001b[0m \u001b[0mobject\u001b[0m\u001b[0;34m.\u001b[0m\u001b[0m__getattribute__\u001b[0m\u001b[0;34m(\u001b[0m\u001b[0mself\u001b[0m\u001b[0;34m,\u001b[0m \u001b[0mname\u001b[0m\u001b[0;34m)\u001b[0m\u001b[0;34m\u001b[0m\u001b[0;34m\u001b[0m\u001b[0m\n\u001b[0m\u001b[1;32m   5271\u001b[0m         \u001b[0;32melse\u001b[0m\u001b[0;34m:\u001b[0m\u001b[0;34m\u001b[0m\u001b[0;34m\u001b[0m\u001b[0m\n\u001b[1;32m   5272\u001b[0m             \u001b[0;32mif\u001b[0m \u001b[0mself\u001b[0m\u001b[0;34m.\u001b[0m\u001b[0m_info_axis\u001b[0m\u001b[0;34m.\u001b[0m\u001b[0m_can_hold_identifiers_and_holds_name\u001b[0m\u001b[0;34m(\u001b[0m\u001b[0mname\u001b[0m\u001b[0;34m)\u001b[0m\u001b[0;34m:\u001b[0m\u001b[0;34m\u001b[0m\u001b[0;34m\u001b[0m\u001b[0m\n",
      "\u001b[0;31mAttributeError\u001b[0m: 'Series' object has no attribute 'columns'"
     ]
    }
   ],
   "source": [
    "# 'patientId'를 기준으로 정렬 후, 동일 patientId가 있을 경우,\n",
    "# bbox_target값 sum 하는데 string이라 옆으로 합쳐진다.\n",
    "#df = df.groupby(['patientId'], as_index = False)['bbox_target'].agg('sum')\n",
    "#df = df.groupby(['patientId'],as_index = False)['bbox'].agg('sum') #왜 이건 안되곰?\n",
    "#df = df.groupby(['patientId'],as_index = False)['width'].agg('sum') # 왜 이건 되곰?\n",
    "df = df.groupby(['patientId'],as_index = False)['bbox'].agg('sum')\n",
    "df.head()\n",
    "#df = df.agg('sum')\n",
    "#df = df['bbox'].agg('sum')"
   ]
  },
  {
   "cell_type": "code",
   "execution_count": null,
   "metadata": {},
   "outputs": [],
   "source": [
    "df.agg('sum')\n",
    "df.head()"
   ]
  },
  {
   "cell_type": "markdown",
   "metadata": {
    "_uuid": "7cf7b27a2edbf7b5684126c45e7ea7c75b5e7a92"
   },
   "source": [
    "Merge labels and oof preds"
   ]
  },
  {
   "cell_type": "code",
   "execution_count": null,
   "metadata": {
    "_uuid": "8a0c0153ebf06ed2dd227782630d660106fb519b"
   },
   "outputs": [],
   "source": [
    "#patientId를 기준으로 merge, 동일한 아이디가 없으면 삭제하기!\n",
    "df = df.merge(oof_preds0, on = 'patientId', how = 'right')\n",
    "df.head()"
   ]
  },
  {
   "cell_type": "code",
   "execution_count": null,
   "metadata": {
    "_uuid": "365436c7300e1890f4ab1109c1cf2a4b3002188b"
   },
   "outputs": [],
   "source": [
    "#3개의 파일을 merge 해서 PredictionString(x, y, default)로 뜸\n",
    "df = df.fillna('') # none -> \" \"로 처리"
   ]
  },
  {
   "cell_type": "code",
   "execution_count": null,
   "metadata": {},
   "outputs": [],
   "source": [
    "df.head()"
   ]
  },
  {
   "cell_type": "markdown",
   "metadata": {
    "_uuid": "14b6f7ebaceceb6727908562ac5a88daca87fe4a"
   },
   "source": [
    "Parse oof preds for MAP IoU"
   ]
  },
  {
   "cell_type": "code",
   "execution_count": null,
   "metadata": {
    "_uuid": "32e395811a42bd2d71dd51c1cb9c82881f61bcd0"
   },
   "outputs": [],
   "source": [
    "#필요없는 열 제거\n",
    "#df = df.drop(['PredictionString','PredictionString_x', 'PredictionString_y'], axis=1)\n",
    "df.loc[:, 'bbox_pred'] = (df.loc[:, 'PredictionString'])\n",
    "df = df.drop(['PredictionString'], axis=1)\n",
    "df.head(20)"
   ]
  },
  {
   "cell_type": "markdown",
   "metadata": {
    "_uuid": "1b0b788e5e0e63b17b0a0c5b6a0248d988985621"
   },
   "source": [
    "Stripping whitespace from PredictionString column"
   ]
  },
  {
   "cell_type": "code",
   "execution_count": null,
   "metadata": {
    "_uuid": "af078767395bf03bce22f5372cea04b82a9f772b"
   },
   "outputs": [],
   "source": [
    "# bbox_pred 값을 문자열로 변환 후 문자열의 양끝에서 공백, 탭, 개행문자 등을 제거\n",
    "df = df.fillna('') # none -> \" \"로 처리\n",
    "df.loc[:, 'bbox_pred'] = df.loc[:, 'bbox_pred'].str.strip()\n",
    "df.tail(20)"
   ]
  },
  {
   "cell_type": "code",
   "execution_count": null,
   "metadata": {
    "_uuid": "a049a5edb4bd5b86a56c0a207a07c5b55aff9283",
    "scrolled": true
   },
   "outputs": [],
   "source": [
    "# 공백을 기준으로 나눔, ','는 기본으로 찍힘\n",
    "df.loc[:, 'bbox_pred'] = df.loc[:, 'bbox_pred'].map(lambda x: x.split(' '))\n",
    "df.head()"
   ]
  },
  {
   "cell_type": "code",
   "execution_count": null,
   "metadata": {
    "_uuid": "6311de8cc3169bddfc5745801fe2bbbfd3fdc440"
   },
   "outputs": [],
   "source": [
    "def parse_scores(x):\n",
    "    if len(x)!=1:\n",
    "        scores = [x[k] for k in range(0,len(x),5)]\n",
    "        for score in range(len(scores)):\n",
    "            scores[score] = float(scores[score])\n",
    "        return np.asarray(scores)\n",
    "    #score 추출"
   ]
  },
  {
   "cell_type": "code",
   "execution_count": null,
   "metadata": {
    "_uuid": "745c94eeec245e2e6684ed872ea6758a23d4ac54"
   },
   "outputs": [],
   "source": [
    "df.loc[:, 'bbox_scores'] = df.loc[:, 'bbox_pred'].map(parse_scores)"
   ]
  },
  {
   "cell_type": "code",
   "execution_count": null,
   "metadata": {
    "_uuid": "83d733c2ba4c9b1beaffce5dce69e7b0cae0a0e5",
    "scrolled": true
   },
   "outputs": [],
   "source": [
    "df.tail()"
   ]
  },
  {
   "cell_type": "code",
   "execution_count": null,
   "metadata": {
    "_uuid": "e233df9c64144f027138d47efd5f3b4674a25ccd"
   },
   "outputs": [],
   "source": [
    "def parse_bbox(x):\n",
    "    if len(x)!=1:\n",
    "        bbox = [(x[k]) for k in range(0,len(x)) if k%5 != 0] #int 삭제\n",
    "        return np.asarray(bbox).reshape(int(len(bbox)/4),4)\n",
    "    # bbox 추출"
   ]
  },
  {
   "cell_type": "code",
   "execution_count": null,
   "metadata": {
    "_uuid": "595da96de44909439638e259161744589df5276e"
   },
   "outputs": [],
   "source": [
    "df.loc[:, 'bbox_preds'] = df.loc[:, 'bbox_pred'].map(parse_bbox)"
   ]
  },
  {
   "cell_type": "code",
   "execution_count": null,
   "metadata": {},
   "outputs": [],
   "source": [
    "df.tail()"
   ]
  },
  {
   "cell_type": "code",
   "execution_count": null,
   "metadata": {
    "_uuid": "8d099b5720fd97b12eb87ad6995d6ea27369fcf8"
   },
   "outputs": [],
   "source": [
    "#bbox_pred 추출 후 열 제거\n",
    "df = df.drop(['bbox_pred'], axis=1)"
   ]
  },
  {
   "cell_type": "code",
   "execution_count": null,
   "metadata": {
    "_uuid": "4540e86f658293242835827c314802ca821a2c4c",
    "scrolled": true
   },
   "outputs": [],
   "source": [
    "df.tail()"
   ]
  },
  {
   "cell_type": "markdown",
   "metadata": {
    "_uuid": "08a4df1090663cc4523ed85ebddc76f36b900d76"
   },
   "source": [
    "Edit NaN or None values to empty numpy arrays to fit MAP IoU metric implementation"
   ]
  },
  {
   "cell_type": "code",
   "execution_count": null,
   "metadata": {
    "_uuid": "c66ad0761803b12e377a62904f192534546df443",
    "scrolled": true
   },
   "outputs": [],
   "source": [
    "df.loc[df['bbox_scores'].isnull(),['bbox_scores']] = df.loc[df['bbox_scores'].isnull(),'bbox_scores'].apply(lambda x: np.asarray([]))"
   ]
  },
  {
   "cell_type": "code",
   "execution_count": null,
   "metadata": {
    "_uuid": "ec0aaf94c955093a98664f8ecebb728fba058695"
   },
   "outputs": [],
   "source": [
    "#bbox_scores null 제거 후 출력\n",
    "df.tail()"
   ]
  },
  {
   "cell_type": "code",
   "execution_count": null,
   "metadata": {
    "_uuid": "d4a5a592d671322648a3cfff47e9fccb791e0aac",
    "scrolled": true
   },
   "outputs": [],
   "source": [
    "df.loc[df['bbox_preds'].isnull(),['bbox_preds']] = df.loc[df['bbox_preds'].isnull(),'bbox_preds'].apply(lambda x: np.asarray([]))"
   ]
  },
  {
   "cell_type": "code",
   "execution_count": null,
   "metadata": {
    "_uuid": "bff01ed1d7af24de3f655063386f5a33db36b5a2"
   },
   "outputs": [],
   "source": [
    "#bbox_pred null 제거 후 출력\n",
    "df.head()"
   ]
  },
  {
   "cell_type": "code",
   "execution_count": null,
   "metadata": {
    "_uuid": "fb9e3dc75a8c3ec9d2424e0496e0124f9661af3f"
   },
   "outputs": [],
   "source": [
    "def parse_target_str(x):\n",
    "    if x[0] != 'nan':\n",
    "        bbox = np.asarray([int(float(x[k])) for k in range(0,len(x))])\n",
    "        return bbox.reshape(int(len(bbox)/4),4)"
   ]
  },
  {
   "cell_type": "code",
   "execution_count": null,
   "metadata": {
    "_uuid": "360f0605fcb1c3d1bd6466adbd561fd33688b279"
   },
   "outputs": [],
   "source": [
    "df.loc[:,'bbox_target'] = df.loc[:,'bbox_target'].map(parse_target_str)\n",
    "df.head()\n",
    "#bbox_target값 4개씩 묶어서 재 배열"
   ]
  },
  {
   "cell_type": "code",
   "execution_count": null,
   "metadata": {
    "_uuid": "0f56fbb9bccd180f743f7551c31408b6fdaac46b",
    "scrolled": true
   },
   "outputs": [],
   "source": [
    "df.loc[df['bbox_target'].isnull(),['bbox_target']] = df.loc[df['bbox_target'].isnull(),'bbox_target'].apply(lambda x: np.asarray([]))"
   ]
  },
  {
   "cell_type": "code",
   "execution_count": null,
   "metadata": {
    "_uuid": "f95413c0eccef734f9d19e2f134b4c7a691c1ac9"
   },
   "outputs": [],
   "source": [
    "df.head()\n",
    "# bbox_target null 제거 후 출력"
   ]
  },
  {
   "cell_type": "markdown",
   "metadata": {
    "_uuid": "bc462c04aa4d250e862280e207d25444b18ae7bc"
   },
   "source": [
    "# Find mean average precision IoU using implementation by chenyc15 https://www.kaggle.com/chenyc15/mean-average-precision-metric and edited herein"
   ]
  },
  {
   "cell_type": "code",
   "execution_count": null,
   "metadata": {
    "_uuid": "5194314ded5199dad9ea8725ff428f2102d8ac5f"
   },
   "outputs": [],
   "source": [
    "# helper function to calculate IoU\n",
    "def iou(box1, box2):\n",
    "    box1 = box1.astype(np.float)\n",
    "    box2 = box2.astype(np.float)\n",
    "    x11, y11, w1, h1 = box1\n",
    "    x21, y21, w2, h2 = box2\n",
    "    assert w1 * h1 > 0\n",
    "    assert w2 * h2 > 0\n",
    "    x12, y12 = x11 + w1, y11 + h1\n",
    "    x22, y22 = x21 + w2, y21 + h2\n",
    "\n",
    "    area1, area2 = w1 * h1, w2 * h2\n",
    "    xi1, yi1, xi2, yi2 = max([x11, x21]), max([y11, y21]), min([x12, x22]), min([y12, y22])\n",
    "    \n",
    "    if xi2 <= xi1 or yi2 <= yi1:\n",
    "        return 0\n",
    "    else:\n",
    "        intersect = (xi2-xi1) * (yi2-yi1)\n",
    "        union = area1 + area2 - intersect\n",
    "        return intersect / union"
   ]
  },
  {
   "cell_type": "code",
   "execution_count": null,
   "metadata": {
    "_uuid": "0589be0aee106c1369a4dce22d750958b34a2d57"
   },
   "outputs": [],
   "source": [
    "def map_iou(boxes_true, boxes_pred, scores, thresholds = [0.4, 0.45, 0.5, 0.55, 0.6, 0.65, 0.7, 0.75]):\n",
    "    \"\"\"\n",
    "    Mean average precision at differnet intersection over union (IoU) threshold\n",
    "    \n",
    "    input:\n",
    "        boxes_true: Mx4 numpy array of ground true bounding boxes of one image. \n",
    "                    bbox format: (x1, y1, w, h)\n",
    "        boxes_pred: Nx4 numpy array of predicted bounding boxes of one image. \n",
    "                    bbox format: (x1, y1, w, h)\n",
    "        scores:     length N numpy array of scores associated with predicted bboxes\n",
    "        thresholds: IoU shresholds to evaluate mean average precision on\n",
    "    output: \n",
    "        map: mean average precision of the image\n",
    "    \"\"\"\n",
    "    \n",
    "    # According to the introduction, images with no ground truth bboxes will not be \n",
    "    # included in the map score unless there is a false positive detection (?)\n",
    "        \n",
    "    # return None if both are empty, don't count the image in final evaluation (?)\n",
    "    if len(boxes_true) == 0 and len(boxes_pred) == 0:\n",
    "        return None\n",
    "    elif len(boxes_true) == 0 and len(boxes_pred) > 0:\n",
    "        return 0\n",
    "    elif len(boxes_true) > 0 and len(boxes_pred) == 0:\n",
    "        return 0\n",
    "    elif len(boxes_true) > 0 and len(boxes_pred) > 0:\n",
    "        assert boxes_true.shape[1] == 4 or boxes_pred.shape[1] == 4, \"boxes should be 2D arrays with shape[1]=4\"\n",
    "        if len(boxes_pred):\n",
    "            assert len(scores) == len(boxes_pred), \"boxes_pred and scores should be same length\"\n",
    "            # sort boxes_pred by scores in decreasing order\n",
    "            boxes_pred = boxes_pred[np.argsort(scores)[::-1], :]\n",
    "\n",
    "        map_total = 0\n",
    "        map_threshold = []\n",
    "\n",
    "        # loop over thresholds\n",
    "        for t in thresholds:\n",
    "            matched_bt = set()\n",
    "            tp, fn = 0, 0\n",
    "            for i, bt in enumerate(boxes_true):\n",
    "                matched = False\n",
    "                for j, bp in enumerate(boxes_pred):\n",
    "                    miou = iou(bt, bp)\n",
    "                    if miou >= t and not matched and j not in matched_bt:\n",
    "                        matched = True\n",
    "                        tp += 1 # bt is matched for the first time, count as TP\n",
    "                        matched_bt.add(j)\n",
    "                if not matched:\n",
    "                    fn += 1 # bt has no match, count as FN\n",
    "\n",
    "            fp = len(boxes_pred) - len(matched_bt) # FP is the bp that not matched to any bt\n",
    "            m = tp / (tp + fn + fp) #precision value\n",
    "            map_threshold.append(m)\n",
    "            map_total += m\n",
    "    \n",
    "        map_total=map_total / len(thresholds) #AP per image\n",
    "        map_threshold.append(map_total)\n",
    "    \n",
    "    return map_threshold"
   ]
  },
  {
   "cell_type": "code",
   "execution_count": null,
   "metadata": {
    "_uuid": "2213344b1af6ef259fe790da786e01c644525fdb"
   },
   "outputs": [],
   "source": [
    "#map_iou test, 상위 20개 행만 테스트\n",
    "for row in range(20):\n",
    "    print(map_iou(df['bbox_target'][row], df['bbox_preds'][row], df['bbox_scores'][row]))"
   ]
  },
  {
   "cell_type": "code",
   "execution_count": null,
   "metadata": {
    "_uuid": "8ef669b34be8b2e66b91cad868575b94f84b810c"
   },
   "outputs": [],
   "source": [
    "#non이 아닐때만 map_iou 계산\n",
    "map_scores = [\n",
    "    x for x in [map_iou(df['bbox_target'][row], df['bbox_preds'][row], df['bbox_scores'][row]) for row in range(len(df))] if x is not None]"
   ]
  },
  {
   "cell_type": "code",
   "execution_count": null,
   "metadata": {
    "_uuid": "b47765ae333aa3dcae70c2130a0376b99ad64af6"
   },
   "outputs": [],
   "source": [
    "# null -> [0, 0, 0, 0, 0, 0, 0, 0, 0]\n",
    "for i in range(len(map_scores)):\n",
    "    if map_scores[i] == 0 :\n",
    "        del map_scores[i]\n",
    "        map_scores.insert(i,[0, 0, 0, 0, 0, 0, 0, 0, 0])"
   ]
  },
  {
   "cell_type": "code",
   "execution_count": null,
   "metadata": {},
   "outputs": [],
   "source": [
    "new_list = list(map(list, zip(*map_scores))) # reverse, [i][j]->[j][i]"
   ]
  },
  {
   "cell_type": "code",
   "execution_count": null,
   "metadata": {
    "scrolled": true
   },
   "outputs": [],
   "source": [
    "thres_list = []\n",
    "for i in range(len(new_list)):\n",
    "    thres_list.append(np.mean(new_list[i])) # AP per thresholds"
   ]
  },
  {
   "cell_type": "code",
   "execution_count": null,
   "metadata": {},
   "outputs": [],
   "source": [
    "thres_list #임계치별 AP (0.4, 0.45, 0.5, 0.55, 0.6, 0.65, 0.7, 0.75, (mAP))"
   ]
  },
  {
   "cell_type": "code",
   "execution_count": null,
   "metadata": {},
   "outputs": [],
   "source": [
    "np.mean(thres_list)"
   ]
  },
  {
   "cell_type": "code",
   "execution_count": null,
   "metadata": {},
   "outputs": [],
   "source": [
    "def AP_N(thres, thres_list):\n",
    "    thres_sum = []\n",
    "    thresholds = [0.4, 0.45, 0.5, 0.55, 0.6, 0.65, 0.7, 0.75]\n",
    "    index = thresholds.index(thres)\n",
    "    for i in range(index, len(thresholds)):\n",
    "        thres_sum.append(thres_list[i])\n",
    "    \n",
    "    return np.mean(thres_sum)           # mAP    "
   ]
  },
  {
   "cell_type": "code",
   "execution_count": null,
   "metadata": {},
   "outputs": [],
   "source": [
    "thresholds = [0.4, 0.45, 0.5, 0.55, 0.6, 0.65, 0.7, 0.75]\n",
    "\n",
    "for i in range(len(thresholds)):\n",
    "    print(AP_N(thresholds[i], thres_list))"
   ]
  },
  {
   "cell_type": "code",
   "execution_count": null,
   "metadata": {},
   "outputs": [],
   "source": []
  }
 ],
 "metadata": {
  "kernelspec": {
   "display_name": "Python 3",
   "language": "python",
   "name": "python3"
  },
  "language_info": {
   "codemirror_mode": {
    "name": "ipython",
    "version": 3
   },
   "file_extension": ".py",
   "mimetype": "text/x-python",
   "name": "python",
   "nbconvert_exporter": "python",
   "pygments_lexer": "ipython3",
   "version": "3.6.10"
  }
 },
 "nbformat": 4,
 "nbformat_minor": 1
}
