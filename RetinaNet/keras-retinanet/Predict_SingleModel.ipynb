{
 "cells": [
  {
   "cell_type": "code",
   "execution_count": 3,
   "metadata": {},
   "outputs": [
    {
     "name": "stdout",
     "output_type": "stream",
     "text": [
      "Predicting boxes for image # 3000\n",
      "Elapsed time = 263.537 seconds\n"
     ]
    }
   ],
   "source": [
    "#!/usr/bin/env python3\n",
    "\"\"\"\n",
    "Script for predicting bounding boxes for the RSNA pneumonia detection challenge\n",
    "by Phillip Cheng, MD MS\n",
    "\"\"\"\n",
    "\n",
    "import os\n",
    "import sys\n",
    "import time\n",
    "import json\n",
    "import numpy as np\n",
    "import pandas as pd\n",
    "\n",
    "# import utility functions\n",
    "import util\n",
    "os.environ['TF_FORCE_GPU_ALLOW_GROWTH'] = 'true'\n",
    "# This is a modified version of keras-retinanet 0.4.1\n",
    "# which includes a score metric to estimate the RSNA score\n",
    "# at the threshold giving the maximum Youden index.\n",
    "sys.path.append(\"keras-retinanet\")\n",
    "from keras_retinanet import models\n",
    "\n",
    "\n",
    "with open('settings.json') as json_data_file:\n",
    "    json_data = json.load(json_data_file)\n",
    "# model_path = json_data[\"MODEL1_50\"]\n",
    "model_path = \"models/resnet101_800_4_0.229.h5\"\n",
    "model = models.load_model(model_path, backbone_name='resnet101', convert=True, nms=False)\n",
    "\n",
    "\n",
    "test_jpg_dir = json_data[\"TEST_JPG_DIR\"]\n",
    "submission_dir = json_data[\"SUBMISSION_DIR\"]\n",
    "\n",
    "sz = 800\n",
    "\n",
    "# threshold for non-max-suppresion for each model\n",
    "nms_threshold = 0\n",
    "\n",
    "# threshold for including boxes from model 1\n",
    "#score_threshold = 0.04\n",
    "score_threshold = 0.04\n",
    "# threshold for including isolated boxes from either model\n",
    "solo_min = 0.15\n",
    "\n",
    "test_ids = []\n",
    "test_outputs = []\n",
    "\n",
    "start = time.time()\n",
    "\n",
    "for i, fname in enumerate(os.listdir(test_jpg_dir)):\n",
    "    print(f\"Predicting boxes for image # {i+1}\\r\", end=\"\")\n",
    "    fpath = os.path.join(test_jpg_dir, fname)\n",
    "    fid = fname[:-4]\n",
    "\n",
    "    boxes_pred, scores = util.get_detection_from_file(fpath, model, sz)\n",
    "\n",
    "    indices = np.where(scores > score_threshold)[0]\n",
    "    scores = scores[indices]\n",
    "    boxes_pred = boxes_pred[indices]\n",
    "    boxes_pred, scores = util.nms(boxes_pred, scores, nms_threshold)\n",
    "    output = ''\n",
    "    for j, bb in enumerate(boxes_pred):\n",
    "        x1 = int(bb[0])\n",
    "        y1 = int(bb[1])\n",
    "        w = int(bb[2]-x1+1)\n",
    "        h = int(bb[3]-y1+1)\n",
    "        output += f'{scores[j]:.3f} {x1} {y1} {w} {h} '\n",
    "    test_ids.append(fid)\n",
    "    test_outputs.append(output)\n",
    "print()\n",
    "end = time.time()\n",
    "# print execution time\n",
    "print(f\"Elapsed time = {end-start:.3f} seconds\")\n",
    "\n",
    "test_df = pd.DataFrame({'patientId': test_ids, 'PredictionString': test_outputs},\n",
    "                       columns=['patientId', 'PredictionString'])\n",
    "if not os.path.exists(submission_dir):\n",
    "    os.mkdir(submission_dir)\n",
    "test_df.to_csv(os.path.join(submission_dir, \"resnet101_800_4_0.229_0.04.csv\"), index = False)"
   ]
  },
  {
   "cell_type": "code",
   "execution_count": null,
   "metadata": {},
   "outputs": [],
   "source": []
  }
 ],
 "metadata": {
  "kernelspec": {
   "display_name": "Python 3",
   "language": "python",
   "name": "python3"
  },
  "language_info": {
   "codemirror_mode": {
    "name": "ipython",
    "version": 3
   },
   "file_extension": ".py",
   "mimetype": "text/x-python",
   "name": "python",
   "nbconvert_exporter": "python",
   "pygments_lexer": "ipython3",
   "version": "3.6.10"
  }
 },
 "nbformat": 4,
 "nbformat_minor": 4
}
